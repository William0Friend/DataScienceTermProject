{
 "cells": [
  {
   "cell_type": "markdown",
   "metadata": {},
   "source": [
    "# CPSC380: 3_Pandas_3_Essential_Functionality\n",
    "\n",
    "In this notebook, you will learn how to create the following objects:\n",
    " - Arithmetic and Data Alignment\n",
    " - Function Application and Mapping\n",
    " \n",
    "Read more: \n",
    " - Python Data Analysis textbook (chapter 5) and \n",
    " - [Pandas website] (https://pandas.pydata.org/pandas-docs/stable/user_guide/dsintro.html)."
   ]
  },
  {
   "cell_type": "code",
   "execution_count": 1,
   "metadata": {},
   "outputs": [],
   "source": [
    "import pandas as pd\n",
    "import numpy as np"
   ]
  },
  {
   "cell_type": "markdown",
   "metadata": {},
   "source": [
    "## 1. Arithmetic and Data Alignment"
   ]
  },
  {
   "cell_type": "markdown",
   "metadata": {},
   "source": [
    "### 1.1 Between series and series object"
   ]
  },
  {
   "cell_type": "code",
   "execution_count": 2,
   "metadata": {},
   "outputs": [
    {
     "data": {
      "text/plain": [
       "a    11\n",
       "b    22\n",
       "c    33\n",
       "d    44\n",
       "dtype: int64"
      ]
     },
     "execution_count": 2,
     "metadata": {},
     "output_type": "execute_result"
    }
   ],
   "source": [
    "ser_1 = pd.Series([1,2,3,4], index=['a', 'b', 'c', 'd'])\n",
    "ser_2 = pd.Series([10,20,30,40], index=['a', 'b', 'c', 'd'])\n",
    "\n",
    "ser_1+ser_2"
   ]
  },
  {
   "cell_type": "code",
   "execution_count": 3,
   "metadata": {},
   "outputs": [
    {
     "data": {
      "text/plain": [
       "a    11.0\n",
       "b    22.0\n",
       "c    33.0\n",
       "d    44.0\n",
       "e     NaN\n",
       "dtype: float64"
      ]
     },
     "execution_count": 3,
     "metadata": {},
     "output_type": "execute_result"
    }
   ],
   "source": [
    "ser_1 = pd.Series([1,2,3,4,5], index=['a', 'b', 'c', 'd', 'e'])\n",
    "ser_2 = pd.Series([10,20,30,40],index=['a', 'b', 'c', 'd'])\n",
    "\n",
    "ser_1+ser_2"
   ]
  },
  {
   "cell_type": "code",
   "execution_count": 4,
   "metadata": {},
   "outputs": [
    {
     "name": "stdout",
     "output_type": "stream",
     "text": [
      "   col1  col2\n",
      "a     1  10.0\n",
      "b     2  20.0\n",
      "c     3  30.0\n",
      "d     4  40.0\n",
      "e     5   NaN \n",
      "\n"
     ]
    },
    {
     "data": {
      "text/html": [
       "<div>\n",
       "<style scoped>\n",
       "    .dataframe tbody tr th:only-of-type {\n",
       "        vertical-align: middle;\n",
       "    }\n",
       "\n",
       "    .dataframe tbody tr th {\n",
       "        vertical-align: top;\n",
       "    }\n",
       "\n",
       "    .dataframe thead th {\n",
       "        text-align: right;\n",
       "    }\n",
       "</style>\n",
       "<table border=\"1\" class=\"dataframe\">\n",
       "  <thead>\n",
       "    <tr style=\"text-align: right;\">\n",
       "      <th></th>\n",
       "      <th>col1</th>\n",
       "      <th>col2</th>\n",
       "      <th>addition</th>\n",
       "      <th>subtraction</th>\n",
       "      <th>multiplication</th>\n",
       "      <th>devision</th>\n",
       "    </tr>\n",
       "  </thead>\n",
       "  <tbody>\n",
       "    <tr>\n",
       "      <th>a</th>\n",
       "      <td>1</td>\n",
       "      <td>10.0</td>\n",
       "      <td>11.0</td>\n",
       "      <td>-9.0</td>\n",
       "      <td>10.0</td>\n",
       "      <td>0.1</td>\n",
       "    </tr>\n",
       "    <tr>\n",
       "      <th>b</th>\n",
       "      <td>2</td>\n",
       "      <td>20.0</td>\n",
       "      <td>22.0</td>\n",
       "      <td>-18.0</td>\n",
       "      <td>40.0</td>\n",
       "      <td>0.1</td>\n",
       "    </tr>\n",
       "    <tr>\n",
       "      <th>c</th>\n",
       "      <td>3</td>\n",
       "      <td>30.0</td>\n",
       "      <td>33.0</td>\n",
       "      <td>-27.0</td>\n",
       "      <td>90.0</td>\n",
       "      <td>0.1</td>\n",
       "    </tr>\n",
       "    <tr>\n",
       "      <th>d</th>\n",
       "      <td>4</td>\n",
       "      <td>40.0</td>\n",
       "      <td>44.0</td>\n",
       "      <td>-36.0</td>\n",
       "      <td>160.0</td>\n",
       "      <td>0.1</td>\n",
       "    </tr>\n",
       "    <tr>\n",
       "      <th>e</th>\n",
       "      <td>5</td>\n",
       "      <td>NaN</td>\n",
       "      <td>NaN</td>\n",
       "      <td>NaN</td>\n",
       "      <td>NaN</td>\n",
       "      <td>NaN</td>\n",
       "    </tr>\n",
       "  </tbody>\n",
       "</table>\n",
       "</div>"
      ],
      "text/plain": [
       "   col1  col2  addition  subtraction  multiplication  devision\n",
       "a     1  10.0      11.0         -9.0            10.0       0.1\n",
       "b     2  20.0      22.0        -18.0            40.0       0.1\n",
       "c     3  30.0      33.0        -27.0            90.0       0.1\n",
       "d     4  40.0      44.0        -36.0           160.0       0.1\n",
       "e     5   NaN       NaN          NaN             NaN       NaN"
      ]
     },
     "execution_count": 4,
     "metadata": {},
     "output_type": "execute_result"
    }
   ],
   "source": [
    "df = pd.DataFrame({'col1': ser_1, 'col2': ser_2})\n",
    "print(df,'\\n')\n",
    "\n",
    "# elementwise operation\n",
    "df['addition'] = df['col1']+df['col2']\n",
    "df['subtraction'] = df['col1']-df['col2']\n",
    "df['multiplication'] = df['col1']*df['col2']\n",
    "df['devision'] = df['col1']/df['col2']\n",
    "df"
   ]
  },
  {
   "cell_type": "markdown",
   "metadata": {},
   "source": [
    "### 1.2 between dataframe and series object\n",
    "\n",
    "The default behavior is to align the **index** of the series with the **column index** of the dataframe and \n",
    "perform the operations between each row and the series."
   ]
  },
  {
   "cell_type": "code",
   "execution_count": 5,
   "metadata": {},
   "outputs": [
    {
     "name": "stdout",
     "output_type": "stream",
     "text": [
      "   col1  col2\n",
      "a     1  10.0\n",
      "b     2  20.0\n",
      "c     3  30.0\n",
      "d     4  40.0\n",
      "e     5   NaN \n",
      "\n",
      "col1     1.0\n",
      "col2    10.0\n",
      "Name: a, dtype: float64 \n",
      "\n",
      "   col1  col2\n",
      "a   0.0   0.0\n",
      "b   1.0  10.0\n",
      "c   2.0  20.0\n",
      "d   3.0  30.0\n",
      "e   4.0   NaN \n",
      "\n"
     ]
    }
   ],
   "source": [
    "df = pd.DataFrame({'col1': ser_1, 'col2': ser_2})\n",
    "\n",
    "# subtract the whole dataframe from the first row (broadcasting rule)\n",
    "print(df, '\\n')\n",
    "print(df.iloc[0],'\\n')\n",
    "print(df-df.iloc[0],'\\n')"
   ]
  },
  {
   "cell_type": "markdown",
   "metadata": {},
   "source": [
    "If you would instead like to operate column-wise, you can use the object methods, while specifying the axis keyword"
   ]
  },
  {
   "cell_type": "code",
   "execution_count": 6,
   "metadata": {},
   "outputs": [
    {
     "name": "stdout",
     "output_type": "stream",
     "text": [
      "   col1  col2\n",
      "a     1  10.0\n",
      "b     2  20.0\n",
      "c     3  30.0\n",
      "d     4  40.0\n",
      "e     5   NaN \n",
      "\n",
      "a    1\n",
      "b    2\n",
      "c    3\n",
      "d    4\n",
      "e    5\n",
      "Name: col1, dtype: int64 \n",
      "\n"
     ]
    },
    {
     "data": {
      "text/html": [
       "<div>\n",
       "<style scoped>\n",
       "    .dataframe tbody tr th:only-of-type {\n",
       "        vertical-align: middle;\n",
       "    }\n",
       "\n",
       "    .dataframe tbody tr th {\n",
       "        vertical-align: top;\n",
       "    }\n",
       "\n",
       "    .dataframe thead th {\n",
       "        text-align: right;\n",
       "    }\n",
       "</style>\n",
       "<table border=\"1\" class=\"dataframe\">\n",
       "  <thead>\n",
       "    <tr style=\"text-align: right;\">\n",
       "      <th></th>\n",
       "      <th>col1</th>\n",
       "      <th>col2</th>\n",
       "    </tr>\n",
       "  </thead>\n",
       "  <tbody>\n",
       "    <tr>\n",
       "      <th>a</th>\n",
       "      <td>0</td>\n",
       "      <td>9.0</td>\n",
       "    </tr>\n",
       "    <tr>\n",
       "      <th>b</th>\n",
       "      <td>0</td>\n",
       "      <td>18.0</td>\n",
       "    </tr>\n",
       "    <tr>\n",
       "      <th>c</th>\n",
       "      <td>0</td>\n",
       "      <td>27.0</td>\n",
       "    </tr>\n",
       "    <tr>\n",
       "      <th>d</th>\n",
       "      <td>0</td>\n",
       "      <td>36.0</td>\n",
       "    </tr>\n",
       "    <tr>\n",
       "      <th>e</th>\n",
       "      <td>0</td>\n",
       "      <td>NaN</td>\n",
       "    </tr>\n",
       "  </tbody>\n",
       "</table>\n",
       "</div>"
      ],
      "text/plain": [
       "   col1  col2\n",
       "a     0   9.0\n",
       "b     0  18.0\n",
       "c     0  27.0\n",
       "d     0  36.0\n",
       "e     0   NaN"
      ]
     },
     "execution_count": 6,
     "metadata": {},
     "output_type": "execute_result"
    }
   ],
   "source": [
    "print(df, '\\n')\n",
    "print(df['col1'],'\\n')\n",
    "df.subtract(df['col1'],axis=0) # {0 or ‘index’, 1 or ‘columns’}"
   ]
  },
  {
   "cell_type": "code",
   "execution_count": 7,
   "metadata": {},
   "outputs": [
    {
     "data": {
      "text/html": [
       "<div>\n",
       "<style scoped>\n",
       "    .dataframe tbody tr th:only-of-type {\n",
       "        vertical-align: middle;\n",
       "    }\n",
       "\n",
       "    .dataframe tbody tr th {\n",
       "        vertical-align: top;\n",
       "    }\n",
       "\n",
       "    .dataframe thead th {\n",
       "        text-align: right;\n",
       "    }\n",
       "</style>\n",
       "<table border=\"1\" class=\"dataframe\">\n",
       "  <thead>\n",
       "    <tr style=\"text-align: right;\">\n",
       "      <th></th>\n",
       "      <th>col1</th>\n",
       "      <th>col2</th>\n",
       "    </tr>\n",
       "  </thead>\n",
       "  <tbody>\n",
       "    <tr>\n",
       "      <th>a</th>\n",
       "      <td>0</td>\n",
       "      <td>9.0</td>\n",
       "    </tr>\n",
       "    <tr>\n",
       "      <th>b</th>\n",
       "      <td>0</td>\n",
       "      <td>18.0</td>\n",
       "    </tr>\n",
       "    <tr>\n",
       "      <th>c</th>\n",
       "      <td>0</td>\n",
       "      <td>27.0</td>\n",
       "    </tr>\n",
       "    <tr>\n",
       "      <th>d</th>\n",
       "      <td>0</td>\n",
       "      <td>36.0</td>\n",
       "    </tr>\n",
       "    <tr>\n",
       "      <th>e</th>\n",
       "      <td>0</td>\n",
       "      <td>NaN</td>\n",
       "    </tr>\n",
       "  </tbody>\n",
       "</table>\n",
       "</div>"
      ],
      "text/plain": [
       "   col1  col2\n",
       "a     0   9.0\n",
       "b     0  18.0\n",
       "c     0  27.0\n",
       "d     0  36.0\n",
       "e     0   NaN"
      ]
     },
     "execution_count": 7,
     "metadata": {},
     "output_type": "execute_result"
    }
   ],
   "source": [
    "df=df.apply(lambda x: x-df['col1'], axis=0)\n",
    "df"
   ]
  },
  {
   "cell_type": "markdown",
   "metadata": {},
   "source": [
    "### 1.3 between dataframe and dataframe object"
   ]
  },
  {
   "cell_type": "code",
   "execution_count": 8,
   "metadata": {},
   "outputs": [
    {
     "name": "stdout",
     "output_type": "stream",
     "text": [
      "     a   b   c   d\n",
      "Fi   1   2   3   4\n",
      "Se   5   6   7   8\n",
      "Th   9  10  11  12\n",
      "Fo  13  14  15  16 \n",
      "\n",
      "      a    b    c    d\n",
      "Fi   10   20   30   40\n",
      "Se   50   60   70   80\n",
      "Th   90  100  110  120\n",
      "Fo  130  140  150  160 \n",
      "\n"
     ]
    }
   ],
   "source": [
    "df_1 = pd.DataFrame(np.arange(1,17).reshape(4,4),\n",
    "                    index= ['Fi', 'Se', 'Th', 'Fo'],\n",
    "                    columns = ['a', 'b', 'c', 'd'])\n",
    "\n",
    "df_2 = pd.DataFrame(np.arange(1,17).reshape(4,4) * 10,\n",
    "                    index= ['Fi', 'Se', 'Th', 'Fo'],\n",
    "                    columns = ['a', 'b', 'c', 'd'])\n",
    "print(df_1,'\\n')\n",
    "print(df_2, '\\n')"
   ]
  },
  {
   "cell_type": "code",
   "execution_count": null,
   "metadata": {},
   "outputs": [],
   "source": []
  },
  {
   "cell_type": "code",
   "execution_count": 9,
   "metadata": {},
   "outputs": [
    {
     "data": {
      "text/html": [
       "<div>\n",
       "<style scoped>\n",
       "    .dataframe tbody tr th:only-of-type {\n",
       "        vertical-align: middle;\n",
       "    }\n",
       "\n",
       "    .dataframe tbody tr th {\n",
       "        vertical-align: top;\n",
       "    }\n",
       "\n",
       "    .dataframe thead th {\n",
       "        text-align: right;\n",
       "    }\n",
       "</style>\n",
       "<table border=\"1\" class=\"dataframe\">\n",
       "  <thead>\n",
       "    <tr style=\"text-align: right;\">\n",
       "      <th></th>\n",
       "      <th>a</th>\n",
       "      <th>b</th>\n",
       "      <th>c</th>\n",
       "      <th>d</th>\n",
       "    </tr>\n",
       "  </thead>\n",
       "  <tbody>\n",
       "    <tr>\n",
       "      <th>Fi</th>\n",
       "      <td>11</td>\n",
       "      <td>22</td>\n",
       "      <td>33</td>\n",
       "      <td>44</td>\n",
       "    </tr>\n",
       "    <tr>\n",
       "      <th>Se</th>\n",
       "      <td>55</td>\n",
       "      <td>66</td>\n",
       "      <td>77</td>\n",
       "      <td>88</td>\n",
       "    </tr>\n",
       "    <tr>\n",
       "      <th>Th</th>\n",
       "      <td>99</td>\n",
       "      <td>110</td>\n",
       "      <td>121</td>\n",
       "      <td>132</td>\n",
       "    </tr>\n",
       "    <tr>\n",
       "      <th>Fo</th>\n",
       "      <td>143</td>\n",
       "      <td>154</td>\n",
       "      <td>165</td>\n",
       "      <td>176</td>\n",
       "    </tr>\n",
       "  </tbody>\n",
       "</table>\n",
       "</div>"
      ],
      "text/plain": [
       "      a    b    c    d\n",
       "Fi   11   22   33   44\n",
       "Se   55   66   77   88\n",
       "Th   99  110  121  132\n",
       "Fo  143  154  165  176"
      ]
     },
     "execution_count": 9,
     "metadata": {},
     "output_type": "execute_result"
    }
   ],
   "source": [
    "df_1+df_2"
   ]
  },
  {
   "cell_type": "code",
   "execution_count": 10,
   "metadata": {},
   "outputs": [
    {
     "data": {
      "text/html": [
       "<div>\n",
       "<style scoped>\n",
       "    .dataframe tbody tr th:only-of-type {\n",
       "        vertical-align: middle;\n",
       "    }\n",
       "\n",
       "    .dataframe tbody tr th {\n",
       "        vertical-align: top;\n",
       "    }\n",
       "\n",
       "    .dataframe thead th {\n",
       "        text-align: right;\n",
       "    }\n",
       "</style>\n",
       "<table border=\"1\" class=\"dataframe\">\n",
       "  <thead>\n",
       "    <tr style=\"text-align: right;\">\n",
       "      <th></th>\n",
       "      <th>a</th>\n",
       "      <th>b</th>\n",
       "      <th>c</th>\n",
       "      <th>d</th>\n",
       "    </tr>\n",
       "  </thead>\n",
       "  <tbody>\n",
       "    <tr>\n",
       "      <th>Fi</th>\n",
       "      <td>-9</td>\n",
       "      <td>-18</td>\n",
       "      <td>-27</td>\n",
       "      <td>-36</td>\n",
       "    </tr>\n",
       "    <tr>\n",
       "      <th>Se</th>\n",
       "      <td>-45</td>\n",
       "      <td>-54</td>\n",
       "      <td>-63</td>\n",
       "      <td>-72</td>\n",
       "    </tr>\n",
       "    <tr>\n",
       "      <th>Th</th>\n",
       "      <td>-81</td>\n",
       "      <td>-90</td>\n",
       "      <td>-99</td>\n",
       "      <td>-108</td>\n",
       "    </tr>\n",
       "    <tr>\n",
       "      <th>Fo</th>\n",
       "      <td>-117</td>\n",
       "      <td>-126</td>\n",
       "      <td>-135</td>\n",
       "      <td>-144</td>\n",
       "    </tr>\n",
       "  </tbody>\n",
       "</table>\n",
       "</div>"
      ],
      "text/plain": [
       "      a    b    c    d\n",
       "Fi   -9  -18  -27  -36\n",
       "Se  -45  -54  -63  -72\n",
       "Th  -81  -90  -99 -108\n",
       "Fo -117 -126 -135 -144"
      ]
     },
     "execution_count": 10,
     "metadata": {},
     "output_type": "execute_result"
    }
   ],
   "source": [
    "df_1-df_2"
   ]
  },
  {
   "cell_type": "code",
   "execution_count": 11,
   "metadata": {},
   "outputs": [
    {
     "data": {
      "text/html": [
       "<div>\n",
       "<style scoped>\n",
       "    .dataframe tbody tr th:only-of-type {\n",
       "        vertical-align: middle;\n",
       "    }\n",
       "\n",
       "    .dataframe tbody tr th {\n",
       "        vertical-align: top;\n",
       "    }\n",
       "\n",
       "    .dataframe thead th {\n",
       "        text-align: right;\n",
       "    }\n",
       "</style>\n",
       "<table border=\"1\" class=\"dataframe\">\n",
       "  <thead>\n",
       "    <tr style=\"text-align: right;\">\n",
       "      <th></th>\n",
       "      <th>a</th>\n",
       "      <th>b</th>\n",
       "      <th>c</th>\n",
       "      <th>d</th>\n",
       "    </tr>\n",
       "  </thead>\n",
       "  <tbody>\n",
       "    <tr>\n",
       "      <th>Fi</th>\n",
       "      <td>1</td>\n",
       "      <td>2</td>\n",
       "      <td>3</td>\n",
       "      <td>4</td>\n",
       "    </tr>\n",
       "    <tr>\n",
       "      <th>Se</th>\n",
       "      <td>5</td>\n",
       "      <td>6</td>\n",
       "      <td>7</td>\n",
       "      <td>8</td>\n",
       "    </tr>\n",
       "    <tr>\n",
       "      <th>Th</th>\n",
       "      <td>9</td>\n",
       "      <td>10</td>\n",
       "      <td>11</td>\n",
       "      <td>12</td>\n",
       "    </tr>\n",
       "    <tr>\n",
       "      <th>Fo</th>\n",
       "      <td>13</td>\n",
       "      <td>14</td>\n",
       "      <td>15</td>\n",
       "      <td>16</td>\n",
       "    </tr>\n",
       "  </tbody>\n",
       "</table>\n",
       "</div>"
      ],
      "text/plain": [
       "     a   b   c   d\n",
       "Fi   1   2   3   4\n",
       "Se   5   6   7   8\n",
       "Th   9  10  11  12\n",
       "Fo  13  14  15  16"
      ]
     },
     "execution_count": 11,
     "metadata": {},
     "output_type": "execute_result"
    }
   ],
   "source": [
    "df_1"
   ]
  },
  {
   "cell_type": "code",
   "execution_count": 48,
   "metadata": {},
   "outputs": [
    {
     "name": "stdout",
     "output_type": "stream",
     "text": [
      "Fi     1\n",
      "Se     5\n",
      "Th     9\n",
      "Fo    13\n",
      "Name: a, dtype: int32\n",
      "<class 'pandas.core.series.Series'>\n",
      "Index(['Fi', 'Se', 'Th', 'Fo'], dtype='object')\n"
     ]
    }
   ],
   "source": [
    "print(df_1['a'])\n",
    "print(type(df_1['a']))\n",
    "print(df_1['a'].keys())"
   ]
  },
  {
   "cell_type": "code",
   "execution_count": 47,
   "metadata": {},
   "outputs": [
    {
     "name": "stdout",
     "output_type": "stream",
     "text": [
      "     a   b\n",
      "Fi   1   2\n",
      "Se   5   6\n",
      "Th   9  10\n",
      "Fo  13  14\n",
      "<class 'pandas.core.frame.DataFrame'>\n",
      "Index(['a', 'b'], dtype='object')\n"
     ]
    }
   ],
   "source": [
    "print(df_1[['a', 'b']])\n",
    "print(type(df_1[['a', 'b']]))\n",
    "print(df_1[['a', 'b']].keys())"
   ]
  },
  {
   "cell_type": "markdown",
   "metadata": {},
   "source": [
    "## 2. Function Application and Mapping"
   ]
  },
  {
   "cell_type": "markdown",
   "metadata": {},
   "source": [
    "### 2.1 DataFrame.apply(func, axis=0)\n",
    " - Apply a function **along an axis** of the DataFrame.\n",
    " - Objects passed to the function are Series objects whose index is either the DataFrame’s index (axis=0) or the DataFrame’s columns (axis=1)."
   ]
  },
  {
   "cell_type": "code",
   "execution_count": 14,
   "metadata": {
    "scrolled": true
   },
   "outputs": [
    {
     "name": "stdout",
     "output_type": "stream",
     "text": [
      "   A  B\n",
      "0  4  9\n",
      "1  4  9\n",
      "2  4  9 \n",
      "\n",
      "     A    B\n",
      "0  2.0  3.0\n",
      "1  2.0  3.0\n",
      "2  2.0  3.0 \n",
      "\n",
      "     A    B\n",
      "0  2.0  3.0\n",
      "1  2.0  3.0\n",
      "2  2.0  3.0 \n",
      "\n",
      "     A    B\n",
      "0  2.0  3.0\n",
      "1  2.0  3.0\n",
      "2  2.0  3.0\n"
     ]
    }
   ],
   "source": [
    "df = pd.DataFrame([[4, 9]] * 3, columns=['A', 'B'])\n",
    "\n",
    "print(df, '\\n')\n",
    "print(df.apply(np.sqrt),'\\n') # NOT elemenwise\n",
    "\n",
    "print(df.apply(np.sqrt, axis=0),'\\n')  # along with row axis\n",
    "print(df.apply(np.sqrt, axis=1))"
   ]
  },
  {
   "cell_type": "code",
   "execution_count": 15,
   "metadata": {},
   "outputs": [
    {
     "name": "stdout",
     "output_type": "stream",
     "text": [
      "   A  B\n",
      "0  4  9\n",
      "1  4  9\n",
      "2  4  9 \n",
      "\n",
      "A    12\n",
      "B    27\n",
      "dtype: int64 \n",
      "\n",
      "0    13\n",
      "1    13\n",
      "2    13\n",
      "dtype: int64\n"
     ]
    }
   ],
   "source": [
    "print(df, '\\n')\n",
    "print(df.apply(np.sum, axis=0),'\\n')  # first column [4, 4, 4] sum()= 12\n",
    "print(df.apply(np.sum, axis=1))       # first row [4, 9] sum = 13"
   ]
  },
  {
   "cell_type": "code",
   "execution_count": 16,
   "metadata": {},
   "outputs": [
    {
     "name": "stdout",
     "output_type": "stream",
     "text": [
      "   A  B\n",
      "0  4  9\n",
      "1  4  9\n",
      "2  4  9 \n",
      "\n",
      "   A  B\n",
      "0  1  1\n",
      "1  2  2 \n",
      "\n",
      "0    [1, 2]\n",
      "1    [1, 2]\n",
      "2    [1, 2]\n",
      "dtype: object\n"
     ]
    }
   ],
   "source": [
    "print(df, '\\n')\n",
    "print(df.apply(lambda x: [1, 2], axis=0),'\\n')  # first column [4, 4, 4] result=[1, 2]\n",
    "print(df.apply(lambda x: [1, 2], axis=1))       # first row [4, 9] result=[1, 2]"
   ]
  },
  {
   "cell_type": "code",
   "execution_count": 17,
   "metadata": {},
   "outputs": [],
   "source": [
    "frame = pd.DataFrame(np.random.randn(4, 3), columns=list('bde'),\n",
    "                     index=['Utah', 'Ohio', 'Texas', 'Oregon'])\n",
    "frame = np.abs(frame)"
   ]
  },
  {
   "cell_type": "code",
   "execution_count": 18,
   "metadata": {},
   "outputs": [
    {
     "name": "stdout",
     "output_type": "stream",
     "text": [
      "               b         d         e\n",
      "Utah    1.062016  0.188901  1.153915\n",
      "Ohio    0.233104  2.561892  1.328863\n",
      "Texas   1.044360  0.056821  1.393812\n",
      "Oregon  1.050718  1.946996  0.867579 \n",
      "\n",
      "b    0.828912\n",
      "d    2.505071\n",
      "e    0.526233\n",
      "dtype: float64 \n",
      "\n",
      "Utah      0.965015\n",
      "Ohio      2.328788\n",
      "Texas     1.336992\n",
      "Oregon    1.079417\n",
      "dtype: float64 \n",
      "\n"
     ]
    }
   ],
   "source": [
    "print(frame,'\\n')\n",
    "\n",
    "# the difference b/w max-min for each column (for default), or row (axis=1)\n",
    "print(frame.apply(lambda x: x.max() - x.min(), axis=0),'\\n') # along row axis (each column)\n",
    "# the first column [0.212835, 0.078002, 0.213323, 0.075263]: max-min=0.212835-0.075263=0.138059\n",
    "\n",
    "print(frame.apply(lambda x: x.max() - x.min(), axis=1),'\\n') # along column axis (each row)\n",
    "# the first row: [0.212835  0.125972  0.328623]"
   ]
  },
  {
   "cell_type": "code",
   "execution_count": 19,
   "metadata": {},
   "outputs": [
    {
     "name": "stdout",
     "output_type": "stream",
     "text": [
      "               b         d         e\n",
      "Utah    1.062016  0.188901  1.153915\n",
      "Ohio    0.233104  2.561892  1.328863\n",
      "Texas   1.044360  0.056821  1.393812\n",
      "Oregon  1.050718  1.946996  0.867579 \n",
      "\n",
      "            b         d         e\n",
      "min  0.233104  0.056821  0.867579\n",
      "max  1.062016  2.561892  1.393812 \n",
      "\n",
      "             min       max\n",
      "Utah    0.188901  1.153915\n",
      "Ohio    0.233104  2.561892\n",
      "Texas   0.056821  1.393812\n",
      "Oregon  0.867579  1.946996 \n",
      "\n"
     ]
    }
   ],
   "source": [
    "print(frame,'\\n')\n",
    "\n",
    "# given an input row or column,\n",
    "# find (min, max) \n",
    "# return the pair with a seris object\n",
    "def f(x):\n",
    "    return pd.Series([x.min(), x.max()], index=['min', 'max'])\n",
    "\n",
    "print(frame.apply(f, axis=0), '\\n')         # along row axis (each column)\n",
    "# the first column [0.212835, 0.078002, 0.213323, 0.075263]: min=0.075263, max= 0.212835 \n",
    "\n",
    "print(frame.apply(f, axis=1),'\\n')          # along column axis (each row)"
   ]
  },
  {
   "cell_type": "markdown",
   "metadata": {},
   "source": [
    "### 2.2 DataFrame.applymap():\n",
    "Apply a function to a Dataframe **elementwise**.\n",
    "\n",
    "This method applies a function that accepts and returns a scalar to every element of a DataFrame."
   ]
  },
  {
   "cell_type": "code",
   "execution_count": 20,
   "metadata": {},
   "outputs": [
    {
     "name": "stdout",
     "output_type": "stream",
     "text": [
      "               b         d         e\n",
      "Utah    1.062016  0.188901  1.153915\n",
      "Ohio    0.233104  2.561892  1.328863\n",
      "Texas   1.044360  0.056821  1.393812\n",
      "Oregon  1.050718  1.946996  0.867579 \n",
      "\n",
      "           b     d     e\n",
      "Utah    1.06  0.19  1.15\n",
      "Ohio    0.23  2.56  1.33\n",
      "Texas   1.04  0.06  1.39\n",
      "Oregon  1.05  1.95  0.87 \n",
      "\n"
     ]
    }
   ],
   "source": [
    "print(frame,'\\n')\n",
    "print(frame.applymap(lambda x: '%.2f' % x),'\\n')"
   ]
  },
  {
   "cell_type": "code",
   "execution_count": 21,
   "metadata": {},
   "outputs": [
    {
     "name": "stdout",
     "output_type": "stream",
     "text": [
      "               b         d         e\n",
      "Utah    1.062016  0.188901  1.153915\n",
      "Ohio    0.233104  2.561892  1.328863\n",
      "Texas   1.044360  0.056821  1.393812\n",
      "Oregon  1.050718  1.946996  0.867579 \n",
      "\n",
      "           b     d     e\n",
      "Utah    1.06  0.19  1.15\n",
      "Ohio    0.23  2.56  1.33\n",
      "Texas   1.04  0.06  1.39\n",
      "Oregon  1.05  1.95  0.87\n"
     ]
    }
   ],
   "source": [
    "# if using apply then the input will be an array instead of scalar value\n",
    "print(frame,'\\n')\n",
    "print(frame.apply(lambda x: ['%.2f' % i for i in x], axis=0))"
   ]
  },
  {
   "cell_type": "markdown",
   "metadata": {},
   "source": [
    "### 2.3 Series.map(): \n",
    "Map values of **Series** according to input correspondence.\n",
    "\n",
    "Used for substituting each value in a Series with another value, that may be derived from a function, a dict or a Series."
   ]
  },
  {
   "cell_type": "code",
   "execution_count": 22,
   "metadata": {},
   "outputs": [
    {
     "data": {
      "text/plain": [
       "Utah      1.15\n",
       "Ohio      1.33\n",
       "Texas     1.39\n",
       "Oregon    0.87\n",
       "Name: e, dtype: object"
      ]
     },
     "execution_count": 22,
     "metadata": {},
     "output_type": "execute_result"
    }
   ],
   "source": [
    "frame['e'].map(lambda x: '%.2f' % x)"
   ]
  }
 ],
 "metadata": {
  "kernelspec": {
   "display_name": "Python 3 (ipykernel)",
   "language": "python",
   "name": "python3"
  },
  "language_info": {
   "codemirror_mode": {
    "name": "ipython",
    "version": 3
   },
   "file_extension": ".py",
   "mimetype": "text/x-python",
   "name": "python",
   "nbconvert_exporter": "python",
   "pygments_lexer": "ipython3",
   "version": "3.7.4"
  }
 },
 "nbformat": 4,
 "nbformat_minor": 2
}
