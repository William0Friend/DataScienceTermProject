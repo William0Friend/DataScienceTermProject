{
 "cells": [
  {
   "cell_type": "markdown",
   "metadata": {},
   "source": [
    "# CPSC380: 2_numpy_3_functions\n",
    "\n",
    "In this notebook, you will learn:\n",
    " - Vectorization\n",
    " - Array mathematics: unary functions, binary functions\n",
    " - Statistics methods\n",
    " - Normalization\n",
    " - Example: Average height of US presidents\n",
    " \n",
    "Read more: \n",
    " - textbook (https://jakevdp.github.io/PythonDataScienceHandbook/02.00-introduction-to-numpy.html) and\n",
    " - [Numpy website] (https://numpy.org/).\n",
    "\n",
    "Numpy is the core library for scientific computing in Python. It provides a high-performance multidimensional array object, and tools for working with these arrays."
   ]
  },
  {
   "cell_type": "code",
   "execution_count": 1,
   "metadata": {},
   "outputs": [],
   "source": [
    "import numpy as np"
   ]
  },
  {
   "cell_type": "markdown",
   "metadata": {},
   "source": [
    "## 1. Vectorization"
   ]
  },
  {
   "cell_type": "markdown",
   "metadata": {},
   "source": [
    "You deal with very large datasets very frequently. Hence, a non-computationally-optimal function can become a huge bottleneck in your algorithm and can result in a model that takes ages to run. To make sure that your code is  computationally efficient, you will use vectorization. For example, try to tell the difference between the following implementations of the dot/elementwise product."
   ]
  },
  {
   "cell_type": "code",
   "execution_count": 2,
   "metadata": {},
   "outputs": [
    {
     "name": "stdout",
     "output_type": "stream",
     "text": [
      "44.5 ms ± 0 ns per loop (mean ± std. dev. of 1 run, 5 loops each)\n",
      "519 µs ± 0 ns per loop (mean ± std. dev. of 1 run, 5 loops each)\n"
     ]
    }
   ],
   "source": [
    "x = range(1000000)\n",
    "%timeit -r 1 -n 5 sum(x)\n",
    "\n",
    "np_x = np.arange(1000000)\n",
    "%timeit -r 1 -n 5 np.sum(np_x)"
   ]
  },
  {
   "cell_type": "code",
   "execution_count": null,
   "metadata": {},
   "outputs": [],
   "source": []
  },
  {
   "cell_type": "code",
   "execution_count": 27,
   "metadata": {},
   "outputs": [
    {
     "name": "stdout",
     "output_type": "stream",
     "text": [
      "dot time = 437.5ms\n",
      "elementwise multiplication time = 515.625ms\n"
     ]
    }
   ],
   "source": [
    "import time\n",
    "\n",
    "x1 = range(1000000)\n",
    "x2 = range(1000000)\n",
    "\n",
    "### CLASSIC DOT PRODUCT OF VECTORS IMPLEMENTATION ###\n",
    "tic = time.process_time()\n",
    "dot = 0\n",
    "for i in range(len(x1)):\n",
    "    dot+= x1[i]*x2[i]\n",
    "toc = time.process_time()\n",
    "print (\"dot time = \" + str(1000*(toc - tic)) + \"ms\")\n",
    "\n",
    "### CLASSIC ELEMENTWISE IMPLEMENTATION ###\n",
    "tic = time.process_time()\n",
    "mul = np.zeros(len(x1))\n",
    "for i in range(len(x1)):\n",
    "    mul[i] = x1[i]*x2[i]\n",
    "toc = time.process_time()\n",
    "print (\"elementwise multiplication time = \" + str(1000*(toc - tic)) + \"ms\")"
   ]
  },
  {
   "cell_type": "code",
   "execution_count": 28,
   "metadata": {},
   "outputs": [
    {
     "name": "stdout",
     "output_type": "stream",
     "text": [
      "dot  time = 0.0ms\n",
      "elementwise multiplication time = 0.0ms\n"
     ]
    }
   ],
   "source": [
    "x1 = np.arange(1000000)\n",
    "x2 = np.arange(1000000)\n",
    "### VECTORIZED DOT PRODUCT OF VECTORS ###\n",
    "tic = time.process_time()\n",
    "dot = np.dot(x1,x2)\n",
    "toc = time.process_time()\n",
    "print (\"dot  time = \" + str(1000*(toc - tic)) + \"ms\")\n",
    "\n",
    "### VECTORIZED ELEMENTWISE MULTIPLICATION ###\n",
    "tic = time.process_time()\n",
    "mul = np.multiply(x1,x2)\n",
    "toc = time.process_time()\n",
    "print (\"elementwise multiplication time = \" + str(1000*(toc - tic)) + \"ms\")\n"
   ]
  },
  {
   "cell_type": "markdown",
   "metadata": {},
   "source": [
    "**Conclusion**: the vectorized implementation is much cleaner and more efficient. "
   ]
  },
  {
   "cell_type": "markdown",
   "metadata": {},
   "source": [
    "## 2. Array mathematics"
   ]
  },
  {
   "cell_type": "markdown",
   "metadata": {},
   "source": [
    "### 2.1 Unary Universal Functions"
   ]
  },
  {
   "cell_type": "code",
   "execution_count": 5,
   "metadata": {},
   "outputs": [
    {
     "name": "stdout",
     "output_type": "stream",
     "text": [
      "X dim:  0 \n",
      "\n",
      " 2.718281828459045\n"
     ]
    }
   ],
   "source": [
    "import numpy as np\n",
    "\n",
    "# example of np.exp\n",
    "x = np.array(1)\n",
    "print('X dim: ', x.ndim, '\\n\\n', np.exp(x)) # result is (exp(1)) e^1"
   ]
  },
  {
   "cell_type": "markdown",
   "metadata": {},
   "source": [
    "If $ x = (x_1, x_2, ..., x_n)$ is a row vector then $np.exp(x)$ will apply the exponential function to every element of x. The output will thus be: $np.exp(x) = (e^{x_1}, e^{x_2}, ..., e^{x_n})$"
   ]
  },
  {
   "cell_type": "code",
   "execution_count": 6,
   "metadata": {},
   "outputs": [
    {
     "name": "stdout",
     "output_type": "stream",
     "text": [
      "X dim:  1 \n",
      "\n",
      " [ 2.71828183  7.3890561  20.08553692]\n"
     ]
    }
   ],
   "source": [
    "import numpy as np\n",
    "\n",
    "# example of np.exp\n",
    "x = np.array([1, 2, 3])\n",
    "print('X dim: ', x.ndim, '\\n\\n', np.exp(x)) # result is (exp(1), exp(2), exp(3))"
   ]
  },
  {
   "cell_type": "code",
   "execution_count": 7,
   "metadata": {},
   "outputs": [
    {
     "name": "stdout",
     "output_type": "stream",
     "text": [
      "X dim:  2 \n",
      "\n",
      " [[  2.71828183   7.3890561   20.08553692]\n",
      " [ 54.59815003 148.4131591  403.42879349]]\n"
     ]
    }
   ],
   "source": [
    "# example of np.exp\n",
    "x = np.array([[1, 2, 3],[4, 5, 6]])\n",
    "print('X dim: ', x.ndim, '\\n\\n', np.exp(x)) # result is ([exp(1), exp(2), exp(3)][exp(4), exp(5), exp(6)])"
   ]
  },
  {
   "cell_type": "markdown",
   "metadata": {},
   "source": [
    "Furthermore, if x is a vector, then a Python operation such as $s = x + 3$ or $s = \\frac{1}{x}$ will output s as a vector of the same size as x."
   ]
  },
  {
   "cell_type": "code",
   "execution_count": 8,
   "metadata": {},
   "outputs": [
    {
     "name": "stdout",
     "output_type": "stream",
     "text": [
      "[[1 2 3]\n",
      " [4 5 6]]\n",
      "[[4 5 6]\n",
      " [7 8 9]]\n",
      "[[1.         0.5        0.33333333]\n",
      " [0.25       0.2        0.16666667]]\n"
     ]
    }
   ],
   "source": [
    "print(x)\n",
    "print (x + 3)\n",
    "print (1/x)"
   ]
  },
  {
   "cell_type": "code",
   "execution_count": 9,
   "metadata": {},
   "outputs": [
    {
     "name": "stdout",
     "output_type": "stream",
     "text": [
      "[ 1.21 20.25 98.01]\n",
      "[1.04880885 2.12132034 3.14642654]\n",
      "[1. 1. 1.]\n",
      "[3.00416602e+00 9.00171313e+01 1.99303704e+04]\n",
      "[0.09531018 1.5040774  2.29253476]\n",
      "[0.13750352 2.169925   3.30742853]\n",
      "[0.04139269 0.65321251 0.99563519]\n",
      "[1. 4. 9.]\n",
      "[ 2.  5. 10.]\n",
      "[ 1.  4. 10.]\n"
     ]
    }
   ],
   "source": [
    "a = np.array([1.1, 4.5, 9.9], float)\n",
    "\n",
    "print(np.square(a))# [ 1.21 20.25 98.01]\n",
    "print(np.sqrt(a))  # [1.04880885 2.12132034 3.14642654]\n",
    "print(np.sign(a))  # [1. 1. 1.]\n",
    "\n",
    "print(np.exp(a)) \n",
    "print(np.log(a))   # [0.09531018 1.5040774  2.29253476]\n",
    "print(np.log2(a))  # [0.13750352 2.169925   3.30742853]\n",
    "print(np.log10(a)) # [0.04139269 0.65321251 0.99563519]\n",
    "\n",
    "print(np.floor(a)) # array([ 1., 4., 9.]) \n",
    "print(np.ceil(a))  # array([ 2., 5., 10.]) \n",
    "print(np.rint(a))   # array([ 1., 2., 2.])"
   ]
  },
  {
   "cell_type": "code",
   "execution_count": null,
   "metadata": {},
   "outputs": [],
   "source": []
  },
  {
   "cell_type": "markdown",
   "metadata": {},
   "source": [
    "### 2.2 Binary Universal Functions"
   ]
  },
  {
   "cell_type": "code",
   "execution_count": 10,
   "metadata": {},
   "outputs": [
    {
     "name": "stdout",
     "output_type": "stream",
     "text": [
      "[[ 6.  8.]\n",
      " [10. 12.]]\n",
      "[[ 6.  8.]\n",
      " [10. 12.]]\n"
     ]
    }
   ],
   "source": [
    "x = np.array([[1,2],[3,4]], dtype=np.float64)\n",
    "y = np.array([[5,6],[7,8]], dtype=np.float64)\n",
    "\n",
    "# Elementwise sum; both produce the array\n",
    "print (x + y)\n",
    "print (np.add(x, y))"
   ]
  },
  {
   "cell_type": "code",
   "execution_count": 11,
   "metadata": {},
   "outputs": [
    {
     "name": "stdout",
     "output_type": "stream",
     "text": [
      "[[-4. -4.]\n",
      " [-4. -4.]]\n",
      "[[-4. -4.]\n",
      " [-4. -4.]]\n"
     ]
    }
   ],
   "source": [
    "# Elementwise difference; both produce the array\n",
    "print (x - y)\n",
    "print (np.subtract(x, y))"
   ]
  },
  {
   "cell_type": "code",
   "execution_count": 12,
   "metadata": {
    "scrolled": true
   },
   "outputs": [
    {
     "name": "stdout",
     "output_type": "stream",
     "text": [
      "[[1. 2.]\n",
      " [3. 4.]] \n",
      "\n",
      "[[5. 6.]\n",
      " [7. 8.]] \n",
      "\n",
      "[[ 5. 12.]\n",
      " [21. 32.]] \n",
      "\n",
      "[[ 5. 12.]\n",
      " [21. 32.]]\n"
     ]
    }
   ],
   "source": [
    "# Elementwise product; both produce the array\n",
    "print(x, \"\\n\")\n",
    "print(y, \"\\n\")\n",
    "print (x * y, \"\\n\")\n",
    "print (np.multiply(x, y))"
   ]
  },
  {
   "cell_type": "code",
   "execution_count": 13,
   "metadata": {},
   "outputs": [
    {
     "name": "stdout",
     "output_type": "stream",
     "text": [
      "[[0.2        0.33333333]\n",
      " [0.42857143 0.5       ]]\n",
      "[[0.2        0.33333333]\n",
      " [0.42857143 0.5       ]]\n"
     ]
    }
   ],
   "source": [
    "# Elementwise division; both produce the array\n",
    "# [[ 0.2         0.33333333]\n",
    "#  [ 0.42857143  0.5       ]]\n",
    "print (x / y)\n",
    "print (np.divide(x, y))"
   ]
  },
  {
   "cell_type": "markdown",
   "metadata": {},
   "source": [
    "**Note**: \n",
    "- `*` is **elementwise multiplication**, not matrix multiplication. \n",
    "- Use the **dot** function to compute inner products of vectors, to multiply a vector by a matrix, and to multiply matrices."
   ]
  },
  {
   "cell_type": "markdown",
   "metadata": {},
   "source": [
    "**Matrix Multiplication**"
   ]
  },
  {
   "cell_type": "code",
   "execution_count": 14,
   "metadata": {},
   "outputs": [
    {
     "name": "stdout",
     "output_type": "stream",
     "text": [
      "219\n",
      "219\n"
     ]
    }
   ],
   "source": [
    "x = np.array([[1,2],[3,4]])\n",
    "y = np.array([[5,6],[7,8]])\n",
    "\n",
    "v = np.array([9,10])\n",
    "w = np.array([11, 12])\n",
    "\n",
    "# Inner product of vectors; both produce 219\n",
    "print (v.dot(w))       # 9*11+10*12=219\n",
    "print (np.dot(v, w))"
   ]
  },
  {
   "cell_type": "code",
   "execution_count": 15,
   "metadata": {},
   "outputs": [
    {
     "name": "stdout",
     "output_type": "stream",
     "text": [
      "Shapes:  (2, 2) (2,) => [29 67]\n",
      "Shapes:  (2, 2) (2,) => [29 67]\n"
     ]
    }
   ],
   "source": [
    "# Matrix / vector product; both produce the rank 1 array [29 67]\n",
    "print ('Shapes: ', x.shape, v.shape, \"=>\", x.dot(v))\n",
    "print ('Shapes: ', x.shape, v.shape, \"=>\", np.dot(x, v))"
   ]
  },
  {
   "cell_type": "code",
   "execution_count": 16,
   "metadata": {},
   "outputs": [
    {
     "name": "stdout",
     "output_type": "stream",
     "text": [
      "Shapes:  (2, 2) (2, 2) =>\n",
      " [[19 22]\n",
      " [43 50]]\n",
      "Shapes:  (2, 2) (2, 2) =>\n",
      " [[19 22]\n",
      " [43 50]]\n"
     ]
    }
   ],
   "source": [
    "# Matrix / matrix product; both produce the rank 2 array\n",
    "# [[19 22]\n",
    "#  [43 50]]\n",
    "print ('Shapes: ', x.shape, y.shape, \"=>\\n\", x.dot(y))\n",
    "print ('Shapes: ', x.shape, y.shape, \"=>\\n\", np.dot(x, y))"
   ]
  },
  {
   "cell_type": "code",
   "execution_count": 17,
   "metadata": {},
   "outputs": [
    {
     "name": "stdout",
     "output_type": "stream",
     "text": [
      "[[2. 2. 1.]\n",
      " [8. 8. 4.]\n",
      " [0. 0. 0.]] \n",
      "\n",
      "10.0 \n",
      "\n",
      "[ 4. -1. -6.] \n",
      "\n"
     ]
    }
   ],
   "source": [
    "# inner, outer, and cross products of matrices and vectors. \n",
    "# For vectors, the inner product is equivalent to the dot product\n",
    "a = np.array([1, 4, 0], float) \n",
    "b = np.array([2, 2, 1], float)\n",
    "\n",
    "print(np.outer(a, b), '\\n') # (n, 1) * (1, n)\n",
    "print(np.inner(a, b),'\\n') # (1, n) * (n, 1)\n",
    "print(np.cross(a, b),'\\n') # ???"
   ]
  },
  {
   "cell_type": "markdown",
   "metadata": {},
   "source": [
    "Other matrix operations:\n",
    " - Transpose\n",
    " - Reshape"
   ]
  },
  {
   "cell_type": "code",
   "execution_count": 18,
   "metadata": {},
   "outputs": [
    {
     "name": "stdout",
     "output_type": "stream",
     "text": [
      "[[1 2 3]] (1, 3) \n",
      "\n",
      "[[1]\n",
      " [2]\n",
      " [3]] (3, 1) \n",
      "\n",
      "[[1 2 3 4]\n",
      " [5 6 7 8]] (2, 4) \n",
      "\n",
      "[[1 5]\n",
      " [2 6]\n",
      " [3 7]\n",
      " [4 8]] (4, 2)\n"
     ]
    }
   ],
   "source": [
    "v = np.array([[1,2,3]])\n",
    "print (v, v.shape, \"\\n\") \n",
    "print (v.T, v.T.shape, \"\\n\")\n",
    "\n",
    "x = np.array([[1, 2, 3, 4],\n",
    "              [5, 6, 7, 8]])\n",
    "print (x, x.shape, \"\\n\")\n",
    "print (x.T, x.T.shape)"
   ]
  },
  {
   "cell_type": "code",
   "execution_count": 19,
   "metadata": {},
   "outputs": [
    {
     "name": "stdout",
     "output_type": "stream",
     "text": [
      "[[1 2 3 4]\n",
      " [5 6 7 8]] (2, 4) \n",
      "\n",
      "[[1 2]\n",
      " [3 4]\n",
      " [5 6]\n",
      " [7 8]] (4, 2) \n",
      "\n",
      "[[1 2]\n",
      " [3 4]\n",
      " [5 6]\n",
      " [7 8]] (4, 2) \n",
      "\n",
      "[[1 2 3 4 5 6 7 8]] (1, 8) \n",
      "\n",
      "[1 2 3 4 5 6 7 8] (8,) \n",
      "\n"
     ]
    }
   ],
   "source": [
    "x = np.array([[1, 2, 3, 4],\n",
    "              [5, 6, 7, 8]])\n",
    "\n",
    "print (x, x.shape, \"\\n\")\n",
    "\n",
    "# rank2 (4,2)\n",
    "print (np.reshape(x, (4,2)), np.reshape(x, (4,2)).shape, \"\\n\")\n",
    "print (np.reshape(x, (4,-1)), np.reshape(x, (4,-1)).shape, \"\\n\") # the unspecified value is inferred to be 2\n",
    "\n",
    "# rank2 (1,8) and rank1 (8,)\n",
    "print (np.reshape(x, (1,8)), np.reshape(x, (1,8)).shape, \"\\n\")\n",
    "print (x.flatten(), x.flatten().shape, \"\\n\")"
   ]
  },
  {
   "cell_type": "markdown",
   "metadata": {},
   "source": [
    "## 3. Statistical methods"
   ]
  },
  {
   "cell_type": "code",
   "execution_count": 20,
   "metadata": {},
   "outputs": [
    {
     "name": "stdout",
     "output_type": "stream",
     "text": [
      "[[14 29 34]\n",
      " [42  5 46]\n",
      " [ 1 38 44]\n",
      " [ 5 16 52]] \n",
      "\n",
      "326 \n",
      "\n",
      "[ 62  88 176] \n",
      "\n",
      "[77 93 83 73] \n",
      "\n"
     ]
    }
   ],
   "source": [
    "x = np.array([(14, 29, 34), (42, 5, 46), (1, 38, 44), (5, 16, 52)])\n",
    "\n",
    "print(x,'\\n')\n",
    "print (np.sum(x),'\\n')           # Compute sum of all elements; \n",
    "print (np.sum(x, axis=0),'\\n')   # Compute sum along with row axis;\n",
    "print (np.sum(x, axis=1),'\\n')   # Compute sum along with column axis;"
   ]
  },
  {
   "cell_type": "code",
   "execution_count": 21,
   "metadata": {},
   "outputs": [
    {
     "name": "stdout",
     "output_type": "stream",
     "text": [
      "[[14 29 34]\n",
      " [42  5 46]\n",
      " [ 1 38 44]\n",
      " [ 5 16 52]]\n",
      "52\n",
      "[42 38 52]\n",
      "[34 46 44 52]\n"
     ]
    }
   ],
   "source": [
    "print(x)\n",
    "print(np.max(x))            # max of all elements\n",
    "print(np.max(x, axis = 0))  # max for each column\n",
    "print(np.max(x, axis = 1))  # max for each row"
   ]
  },
  {
   "cell_type": "markdown",
   "metadata": {},
   "source": [
    "**numpy.argmax()** function returns indices of the max element of the array in a particular axis. "
   ]
  },
  {
   "cell_type": "code",
   "execution_count": 22,
   "metadata": {},
   "outputs": [
    {
     "name": "stdout",
     "output_type": "stream",
     "text": [
      "[[14 29 34]\n",
      " [42  5 46]\n",
      " [ 1 38 44]\n",
      " [ 5 16 52]]\n",
      "11\n",
      "[1 2 3]\n",
      "[2 2 2 2]\n"
     ]
    }
   ],
   "source": [
    "print(x)\n",
    "print(np.argmax(x))           # index correponding to max of all elements (flattened) \n",
    "print(np.argmax(x, axis = 0)) # index correponding to max for each column (along with row axis)\n",
    "print(np.argmax(x, axis = 1)) # index correponding to max for each row  (along with column axis)"
   ]
  },
  {
   "cell_type": "code",
   "execution_count": null,
   "metadata": {},
   "outputs": [],
   "source": []
  },
  {
   "cell_type": "markdown",
   "metadata": {},
   "source": [
    "## 4. Column normalization\n",
    "\n",
    "For column normalization, the volues for each column will be normalized so the each column's unit lenght is 1.\n",
    "\n",
    "For example, $$x = \n",
    "\\begin{bmatrix}\n",
    "    0 &  0  & 30 & 400\\\\\n",
    "    3 & 30  & 40 &   0\\\\\n",
    "    4 & 40  &  0 & 300\\\\\n",
    "\\end{bmatrix}\\tag{1}$$ \n",
    "\n",
    "then we need compute norm for each column so we need to do norm along **row axis, axis = 0, not axis = 1**\n",
    "\n",
    "$$\\| x\\| = np.linalg.norm(x, axis = 0, keepdims = True) = \\begin{bmatrix}\n",
    "    5 & 50 & 50 & 500\\\\\n",
    "\\end{bmatrix}\\tag{2} $$\n",
    "\n",
    "and        $$ x\\_normalized = \\frac{x}{\\| x\\|} = \\begin{bmatrix}\n",
    "    0. & 0. & 0.6 &0.8\\\\\n",
    "   0.6 &0.6 &0.8  &0. \\\\\n",
    "   0.8 &0.8 &0.   &0.6\\\\\n",
    "\\end{bmatrix}\\tag{3}$$ \n",
    "\n",
    "Note that you can divide matrices of different sizes and it works fine: this is called broadcasting and you're going to learn."
   ]
  },
  {
   "cell_type": "code",
   "execution_count": 23,
   "metadata": {},
   "outputs": [
    {
     "name": "stdout",
     "output_type": "stream",
     "text": [
      "[[  5.  50.  50. 500.]] (1, 4) \n",
      "\n",
      "[[0.  0.  0.6 0.8]\n",
      " [0.6 0.6 0.8 0. ]\n",
      " [0.8 0.8 0.  0.6]]\n"
     ]
    }
   ],
   "source": [
    "import numpy as np\n",
    "x = np.array([[0,  0, 30, 400],\n",
    "              [3, 30, 40,   0],\n",
    "              [4, 40,  0, 300]])\n",
    "\n",
    "# Compute x_norm as the norm 2 of x. Use np.linalg.norm(..., ord = 2, axis = ..., keepdims = True)\n",
    "x_norm = np.linalg.norm(x, ord = 2, axis = 0, keepdims = True)\n",
    "print (x_norm, x_norm.shape,'\\n')\n",
    "    \n",
    "# Divide x by its norm.\n",
    "x = x / x_norm\n",
    "\n",
    "print(x)      "
   ]
  },
  {
   "cell_type": "code",
   "execution_count": null,
   "metadata": {},
   "outputs": [],
   "source": []
  },
  {
   "cell_type": "markdown",
   "metadata": {},
   "source": [
    "## 5 Example: Average Height of US Presidents"
   ]
  },
  {
   "cell_type": "code",
   "execution_count": 40,
   "metadata": {},
   "outputs": [
    {
     "name": "stdout",
     "output_type": "stream",
     "text": [
      "   order               name  height(cm)\n",
      "0      1  George Washington         189\n",
      "1      2         John Adams         170\n",
      "2      3   Thomas Jefferson         189\n"
     ]
    }
   ],
   "source": [
    "import pandas as pd\n",
    "data = pd.read_csv('data/president_heights.csv')\n",
    "print (data.head(3))"
   ]
  },
  {
   "cell_type": "code",
   "execution_count": 41,
   "metadata": {},
   "outputs": [
    {
     "name": "stdout",
     "output_type": "stream",
     "text": [
      "[189 170 189 163 183 171 185 168 173 183 173 173 175 178 183 193 178 173\n",
      " 174 183 183 168 170 178 182 180 183 178 182 188 175 179 183 193 182 183\n",
      " 177 185 188 188 182 185]\n"
     ]
    }
   ],
   "source": [
    "heights = np.array(data['height(cm)'])\n",
    "print(heights)"
   ]
  },
  {
   "cell_type": "code",
   "execution_count": 52,
   "metadata": {},
   "outputs": [
    {
     "name": "stdout",
     "output_type": "stream",
     "text": [
      "Mean height:        179.74\n",
      "Standard deviation:   6.93\n",
      "Minimum height:     163.00\n",
      "Maximum height:     193.00\n"
     ]
    }
   ],
   "source": [
    "# compute a variety of summary statistics:\n",
    "print(\"Mean height:       \", '{:6.2f}'.format(heights.mean()))\n",
    "print(\"Standard deviation:\", '{:6.2f}'.format(heights.std()))\n",
    "print(\"Minimum height:    \", '{:6.2f}'.format(heights.min()))\n",
    "print(\"Maximum height:    \", '{:6.2f}'.format(heights.max()))"
   ]
  },
  {
   "cell_type": "markdown",
   "metadata": {},
   "source": [
    "Note that in each case, the aggregation operation reduced the entire array to a single summarizing value, which gives us information about the distribution of values.\n",
    "We may also wish to compute quantiles:"
   ]
  },
  {
   "cell_type": "code",
   "execution_count": 53,
   "metadata": {},
   "outputs": [
    {
     "name": "stdout",
     "output_type": "stream",
     "text": [
      "25th percentile:    174.25\n",
      "Median:             182.00\n",
      "75th percentile:    183.00\n"
     ]
    }
   ],
   "source": [
    "print(\"25th percentile:   \", '{:6.2f}'.format(np.percentile(heights, 25)))\n",
    "print(\"Median:            \", '{:6.2f}'.format(np.median(heights)))\n",
    "print(\"75th percentile:   \", '{:6.2f}'.format(np.percentile(heights, 75)))"
   ]
  },
  {
   "cell_type": "code",
   "execution_count": 33,
   "metadata": {},
   "outputs": [],
   "source": [
    "%matplotlib inline\n",
    "import matplotlib.pyplot as plt\n",
    "import seaborn; seaborn.set()  # set plot style"
   ]
  },
  {
   "cell_type": "code",
   "execution_count": 34,
   "metadata": {},
   "outputs": [
    {
     "data": {
      "image/png": "[encoded data removed]",
      "text/plain": [
       "<Figure size 432x288 with 1 Axes>"
      ]
     },
     "metadata": {
      "needs_background": "light"
     },
     "output_type": "display_data"
    }
   ],
   "source": [
    "plt.hist(heights) # histogram of height\n",
    "plt.title('Height Distribution of US Presidents')\n",
    "plt.xlabel('height (cm)')\n",
    "plt.ylabel('number');"
   ]
  },
  {
   "cell_type": "code",
   "execution_count": null,
   "metadata": {},
   "outputs": [],
   "source": []
  }
 ],
 "metadata": {
  "kernelspec": {
   "display_name": "Python 3 (ipykernel)",
   "language": "python",
   "name": "python3"
  },
  "language_info": {
   "codemirror_mode": {
    "name": "ipython",
    "version": 3
   },
   "file_extension": ".py",
   "mimetype": "text/x-python",
   "name": "python",
   "nbconvert_exporter": "python",
   "pygments_lexer": "ipython3",
   "version": "3.9.13"
  }
 },
 "nbformat": 4,
 "nbformat_minor": 4
}
